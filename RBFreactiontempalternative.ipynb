{
 "cells": [
  {
   "cell_type": "code",
   "execution_count": null,
   "metadata": {},
   "outputs": [],
   "source": [
    "import torch\n",
    "import numpy as np\n",
    "import pandas as pd\n",
    "import matplotlib.pyplot as plt\n",
    "import math as m\n",
    "import cantera as ct"
   ]
  },
  {
   "cell_type": "code",
   "execution_count": null,
   "metadata": {},
   "outputs": [],
   "source": [
    "%load_ext autoreload\n",
    "%autoreload 2"
   ]
  },
  {
   "cell_type": "code",
   "execution_count": null,
   "metadata": {},
   "outputs": [],
   "source": [
    "from src.data import H2_combustion2\n",
    "from src.edmd import TruncEDMD\n",
    "from src.kernels import RBFKernel\n",
    "from src.training_edmd import GD_edmd_training\n",
    "from src.visualizations import legend_without_duplicate_labels, dynamicscombust,gridsearchnorm,traininglandscapenorm,OOS_system_normalize\n",
    "from matplotlib.legend_handler import HandlerTuple"
   ]
  },
  {
   "cell_type": "code",
   "execution_count": null,
   "metadata": {},
   "outputs": [],
   "source": [
    "import sys\n",
    "\n",
    "if not sys.warnoptions:\n",
    "    import warnings\n",
    "    warnings.simplefilter(\"ignore\")"
   ]
  },
  {
   "cell_type": "markdown",
   "metadata": {},
   "source": [
    "Define intiial conditions and time interval then plot the result of the original system"
   ]
  },
  {
   "cell_type": "code",
   "execution_count": null,
   "metadata": {},
   "outputs": [],
   "source": [
    "dynamic_system=\"non_steady_state_H2_single\"\n",
    "f, ax = plt.subplots(1, 3, figsize=(10, 3.75))\n",
    "f1, ax1 = plt.subplots(1, 3, figsize=(10, 3.75))\n",
    "timesteps=200#133\n",
    "factor=4\n",
    "t_end=0.25#0.0006\n",
    "t_begin=0.11\n",
    "\n",
    "initial_conditions= np.array([[0.06,776],[0.06,778],[0.06,780],[0.06,782],[0.06,784],[0.06,786],[0.06,788],[0.06,790],[0.06,792]])\n",
    "\n",
    "x,y,initial_conditions_norm,original_norm,original,t_eval_frac=dynamicscombust(H2_combustion2,initial_conditions,t_end,timesteps,factor,t_begin)\n",
    "timesteps=len(t_eval_frac)\n",
    "\n",
    "\n",
    "for ic, condition in enumerate(initial_conditions_norm):\n",
    "    \n",
    "    ax[0].plot(original_norm[ic*(timesteps):ic*(timesteps)+(timesteps), 0],original_norm[ic*(timesteps):ic*(timesteps)+(timesteps), 1],)\n",
    "    \n",
    "    ax[1].plot(t_eval_frac,original_norm[ic*(timesteps):ic*(timesteps)+(timesteps), 0])\n",
    "    ax[2].plot(t_eval_frac,original_norm[ic*(timesteps):ic*(timesteps)+(timesteps), 1])\n",
    "    ax1[0].plot(original[ic*(timesteps):ic*(timesteps)+(timesteps), 0],original[ic*(timesteps):ic*(timesteps)+(timesteps), 1],)\n",
    "    ax1[1].plot(t_eval_frac,original[ic*(timesteps):ic*(timesteps)+(timesteps), 0])\n",
    "    ax1[2].plot(t_eval_frac,original[ic*(timesteps):ic*(timesteps)+(timesteps), 1])\n",
    "\n",
    "\n",
    "\n",
    "ax[0].grid()\n",
    "ax[0].set_xlabel(\"H2 Mole Fraction\")\n",
    "ax[0].set_ylabel(\"Temperature\")\n",
    "\n",
    "\n",
    "ax[1].grid()\n",
    "ax[1].set_xlabel(\"Time (sec)\")\n",
    "ax[1].set_ylabel(\"H2 Mole Fraction\")\n",
    "\n",
    "ax[2].grid()\n",
    "ax[2].set_xlabel(\"Time (sec)\")\n",
    "ax[2].set_ylabel(\"Temperature\")\n",
    "\n",
    "ax1[0].grid()\n",
    "ax1[0].set_xlabel(\"H2 Mole Fraction\")\n",
    "ax1[0].set_ylabel(\"Temperature(K)\")\n",
    "#ax[0].set_ylim(775,790)\n",
    "\n",
    "ax1[1].grid()\n",
    "ax1[1].set_xlabel(\"Time (sec)\")\n",
    "ax1[1].set_ylabel(\"H2 Mole Fraction\")\n",
    "\n",
    "ax1[2].grid()\n",
    "ax1[2].set_xlabel(\"Time (sec)\")\n",
    "ax1[2].set_ylabel(\"Temperature(K)\")\n",
    "\n",
    "\n",
    "\n",
    "f.tight_layout()\n",
    "f1.tight_layout()"
   ]
  },
  {
   "cell_type": "markdown",
   "metadata": {},
   "source": [
    "Perform Grid Search"
   ]
  },
  {
   "cell_type": "code",
   "execution_count": null,
   "metadata": {},
   "outputs": [],
   "source": [
    "\n",
    "initial_conditions= np.array([[0.06,776],[0.06,778],[0.06,780],[0.06,782],[0.06,784],[0.06,786],[0.06,788],[0.06,790],[0.06,792]])\n",
    "initial_conditions_sample=np.array([[0.06,782.5] , [0.06,783.2] , [0.06,786]])\n",
    "method = TruncEDMD()\n",
    "parameters = np.array([0.1,0.5,1.0,1.5,2.0])#np.array([1.0,2.0,3.0,4.0,5.0,6.0,7.0,8.0,9.0,10.0,11.0,12.0,13.0,14.0,15.0,16.0,17.0,18.0])\n",
    "\n",
    "truncs=np.array([5,10,15,20,25,30])#np.array([8,9,10,12,14,16,18,20,22,24,26,28,30,32,34,36,38,40,42,44,46,48,52,54,56,58])\n",
    "\n",
    "factors=np.array([4])\n",
    "\n",
    "t_begin=0.11\n",
    "\n",
    "t_end=0.25\n",
    "timesteps=160\n",
    "kernel = RBFKernel\n",
    "index=0\n",
    "\n",
    "lossperstep,OOSlossperstep,optim=gridsearchnorm(factors,truncs,parameters,initial_conditions,\n",
    "                                                initial_conditions_sample,timesteps,t_end,method,\n",
    "                                                kernel,H2_combustion2,t_begin)"
   ]
  },
  {
   "cell_type": "markdown",
   "metadata": {},
   "source": [
    "Plot Results of Grid Search"
   ]
  },
  {
   "cell_type": "code",
   "execution_count": null,
   "metadata": {},
   "outputs": [],
   "source": [
    "fig, ax = plt.subplots(1, 2, figsize=(12, 6))  # 1 row, 2 columns of subplots\n",
    "\n",
    "im1 = ax[0].imshow(np.log(OOSlossperstep),extent=[5,30,0.1,2.0],aspect=11.5,origin=\"lower\")\n",
    "cbar1 = fig.colorbar(im1, ax=ax[0],shrink=0.6,)  # Colorbar for the first image\n",
    "cbar1.set_label(\"Log(Error)\")\n",
    "ax[0].set_xlabel(\"Number of Eigenfunctions\")\n",
    "ax[0].set_ylabel(\"Free Parameter θ\")\n",
    "\n",
    "\n",
    "\n",
    "ax[0].set_title(\"Average Out-of-Sample Trajectory Error\")  # Optionally set a title for the first subplot\n",
    "\n",
    "\n",
    "im2 = ax[1].imshow(np.log(lossperstep),extent=[5,30,0.1,2.0],aspect=11.5,origin=\"lower\")\n",
    "cbar2 = fig.colorbar(im2, ax=ax[1],shrink=0.6)  # Colorbar for the second image\n",
    "\n",
    "ax[1].set_xlabel(\"Number of Eigenfunctions\")\n",
    "ax[1].set_ylabel(\"Free Parameter θ\")\n",
    "ax[1].set_title(\"In-sample Loss\")  # Optionally set a title for the second subplot\n",
    "\n",
    "cbar2.set_label(\"Log(Loss)\")\n",
    "\n",
    "plt.tight_layout()\n",
    "\n",
    "min=np.where(optim == np.nanmin(optim))\n",
    "print(min)\n",
    "# Show the plot\n",
    "plt.show()\n"
   ]
  },
  {
   "cell_type": "markdown",
   "metadata": {},
   "source": [
    "Explore the training landscape"
   ]
  },
  {
   "cell_type": "code",
   "execution_count": null,
   "metadata": {},
   "outputs": [],
   "source": [
    "#x_next_DMD=edmd.trajectory_visualization_DMD(x,y,LinearKernel())\n",
    "initial_conditions =np.array([[0.08,775],[0.08,778.5],[0.08,782]])\n",
    "t_end=0.25#0.0006\n",
    "timesteps=160\n",
    "trunc=15\n",
    "method = TruncEDMD()\n",
    "factor=4\n",
    "parameters = np.linspace(0.05, 50, num=200)\n",
    "func=H2_combustion2\n",
    "t_begin=0.11\n",
    "kernel= RBFKernel\n",
    "\n",
    "losstrain,min_loss=traininglandscapenorm(initial_conditions,t_end,timesteps,factor,trunc,method,\n",
    "                          kernel,parameters,func,t_begin)\n"
   ]
  },
  {
   "cell_type": "markdown",
   "metadata": {},
   "source": [
    "Plot the Training Landscape"
   ]
  },
  {
   "cell_type": "code",
   "execution_count": null,
   "metadata": {},
   "outputs": [],
   "source": [
    "f, ax = plt.subplots()\n",
    "ax.plot( parameters, np.log(losstrain), label='Training Loss')\n",
    "\n",
    "ax.set_xlabel('Free Parameter θ')\n",
    "ax.set_ylabel('Log(In-Sample Loss)')\n",
    "ax.set_title(\"Loss Landscape\") \n",
    "\n",
    "f.tight_layout()\n"
   ]
  },
  {
   "cell_type": "markdown",
   "metadata": {},
   "source": [
    "Perform Training using optimized paramters"
   ]
  },
  {
   "cell_type": "code",
   "execution_count": null,
   "metadata": {},
   "outputs": [],
   "source": [
    "method = TruncEDMD()\n",
    "parameter = torch.tensor(1.0, requires_grad=True)\n",
    "kernel = RBFKernel([parameter])\n",
    "initial_conditions= np.array([[0.08,775],[0.08,778.5],[0.08,782]])\n",
    "t_end=0.25#0.0006\n",
    "timesteps=170\n",
    "trunc=15\n",
    "factor=4\n",
    "t_begin=0.11\n",
    "func= H2_combustion2\n",
    "num_epochs=10\n",
    "\n",
    "\n",
    "x,y,initial_conditions_norm,original_norm,original,t_eval_frac=dynamicscombust(func,initial_conditions,\n",
    "                                                                                t_end,timesteps,factor,t_begin)\n",
    "\n",
    "train_loss, min_param = GD_edmd_training(num_epochs,1, x.T, y.T, kernel, method,trunc, \n",
    "     lr=1e-1,full=True, penalty=True)\n",
    "\n",
    "fig, ax = plt.subplots()\n",
    "plt.plot( np.array(range(0,num_epochs)), np.array(train_loss), label='Training Loss')\n",
    "\n",
    "plt.xlabel('Epoch')\n",
    "plt.ylabel('Loss')\n",
    "plt.title('Training Loss Curve')\n",
    "plt.legend()\n",
    "plt.show()\n",
    "print(list(kernel.parameters()))\n",
    "\n"
   ]
  },
  {
   "cell_type": "markdown",
   "metadata": {},
   "source": [
    "Visualize Training"
   ]
  },
  {
   "cell_type": "code",
   "execution_count": null,
   "metadata": {},
   "outputs": [],
   "source": [
    "fig, ax = plt.subplots()\n",
    "plt.plot( np.array(range(0,num_epochs)), np.array(np.log(train_loss[0:])), label='Training Loss')\n",
    "\n",
    "ax.set_ylabel('Log(In-Sample Loss)')\n",
    "ax.set_title(\"Training Landscape\") \n",
    "\n",
    "plt.show()\n",
    "print(list(kernel.parameters()))\n"
   ]
  },
  {
   "cell_type": "markdown",
   "metadata": {},
   "source": [
    "Plot and report the in-sample and out of sample loss for the best paramter combination"
   ]
  },
  {
   "cell_type": "code",
   "execution_count": null,
   "metadata": {},
   "outputs": [],
   "source": [
    "\n",
    "initial_conditions= np.array([[0.06,776],[0.06,778],[0.06,780],[0.06,782],[0.06,784],[0.06,786],[0.06,788],[0.06,790],[0.06,792]])\n",
    "\n",
    "t_end=0.25#0.0006\n",
    "timesteps=160\n",
    "func= H2_combustion2\n",
    "dt=t_end/timesteps\n",
    "t_eval=np.linspace(0, t_end, timesteps)\n",
    "trunc=42\n",
    "factor=4\n",
    "method = TruncEDMD()\n",
    "t_begin=0.11\n",
    "#parameter = torch.tensor(0.4, requires_grad=True)\n",
    "parameter=torch.tensor(2.0,requires_grad=True) #33.2791   \n",
    "kernel = RBFKernel([parameter])\n",
    "\n",
    "x,y,initial_conditions_norm,original_norm,original,t_eval_frac=dynamicscombust(func,\n",
    "                                                    initial_conditions,t_end,timesteps,factor,t_begin)\n",
    "Kernel_results=method.edmd_computations(x.T,y.T,kernel,trunc)\n",
    "method.preloss_computation_full()\n",
    "loss = method.loss_full(kernel, x.T, y.T, penalty=True)\n",
    "f, ax = plt.subplots(1, 3, figsize=(12, 4))\n",
    "\n",
    "for ic,condition in enumerate(initial_conditions_norm):\n",
    "\n",
    "    condition=np.array([condition],ndmin=2)\n",
    "    Fx=method.single_tradjectory(t_eval_frac,condition.T,x.T,y.T,kernel,Kernel_results) \n",
    "   \n",
    "    ax[0].plot(Fx[:,0],Fx[:,1])\n",
    "    ax[0].set_xlabel(\"H2 Mole Fraction\")\n",
    "    ax[0].set_ylabel(\"Temperature \")\n",
    "    ax[0].grid()\n",
    "    ax[1].plot(t_eval_frac,Fx[:,0],)\n",
    "    ax[1].set_xlabel(\"Time (sec)\")\n",
    "    ax[1].set_ylabel(\"H2 Mole Fraction\")\n",
    "    ax[1].grid()\n",
    "    ax[2].plot(t_eval_frac,Fx[:,1],)\n",
    "    ax[2].set_xlabel(\"Time (sec)\")\n",
    "    ax[2].set_ylabel(\"Temperature \")\n",
    "    ax[2].grid()\n",
    "    \n",
    "   \n",
    "    f.tight_layout()\n",
    "print(\"loss\",loss)\n"
   ]
  },
  {
   "cell_type": "code",
   "execution_count": null,
   "metadata": {},
   "outputs": [],
   "source": [
    "#out of sample specification#################################################################   \n",
    "f, ax = plt.subplots(1, 3, figsize=(12, 4))\n",
    "\n",
    "\n",
    "initial_conditions_sample=np.array([[0.06,782.5] , [0.06,783.2] , [0.06,786]])\n",
    "line=np.empty(len(initial_conditions_sample))\n",
    "\n",
    "x,y,initial_conditions_norm,original_norm,original,t_eval_frac=dynamicscombust(func,\n",
    "                                                initial_conditions,t_end,timesteps,factor,t_begin)\n",
    "Kernel_results=method.edmd_computations(x.T,y.T,kernel,trunc)\n",
    "method.preloss_computation_full()\n",
    "\n",
    "#timesteps_sample=25\n",
    "#dt=t_end/len(t_eval_frac)\n",
    "#t_end_sample =timesteps_sample*dt\n",
    "t_eval_sample = t_eval_frac\n",
    "\n",
    "sumloss=0\n",
    "for ic,condition in enumerate(initial_conditions_sample):\n",
    "     \n",
    "        t_eval=np.linspace(0, t_end, timesteps) #normal trajectory here\n",
    "        dynamics_norm,initial_condition_norm_sample=OOS_system_normalize(t_eval,condition,original,func)\n",
    "        int_begin=int(t_begin//(t_end/timesteps)) #change here!!!!!\n",
    "        dynamics_norm=dynamics_norm[int_begin::factor]\n",
    "\n",
    "        initial_condition_norm_sample=np.array([initial_condition_norm_sample],ndmin=2)\n",
    "        predicted=method.single_tradjectory(t_eval_frac,initial_condition_norm_sample.T,x.T,y.T,kernel,Kernel_results) \n",
    "        sumloss = sumloss+np.sqrt(np.sum(np.square((abs(predicted-dynamics_norm))))/len(t_eval_frac))\n",
    "       \n",
    "        ax[0].plot(predicted[:,0],predicted[:,1],0.1,c=\"red\",linestyle='--', label=\"Predicted\" )   \n",
    "        ax[0].plot(dynamics_norm[:,0],dynamics_norm[:,1],0.1,c=\"black\", label=\"Original\" )  \n",
    "        ax[0].scatter(initial_condition_norm_sample[:,0],initial_condition_norm_sample[:,1]) \n",
    "        ax[0].set_xlabel(\"H2 Mole Fraction\")\n",
    "        ax[0].set_ylabel(\"Temperature \")\n",
    "        ax[1].set_xlim([0.1,0.252])\n",
    "        ax[2].set_xlim([0.1,0.252])\n",
    "        ax[0].grid()\n",
    "        ax[1].plot(t_eval_sample,predicted[:,0],0.1,c=\"red\",linestyle='--', label=\"Predicted\" )\n",
    "        ax[2].plot(t_eval_sample,predicted[:,1],0.1,c=\"red\",linestyle='--', label=\"Predicted\" )\n",
    "        ax[1].set_xlabel(\"Time (sec)\")\n",
    "        ax[1].set_ylabel(\"H2 Mole Fraction\")\n",
    "        ax[1].grid()\n",
    "        ax[2].set_xlabel(\"Time (sec)\")\n",
    "        ax[2].set_ylabel(\"Temperature \")\n",
    "        ax[2].grid()\n",
    "      \n",
    "        ax[1].plot(t_eval_sample,dynamics_norm[:,0],0.1,c=\"black\", label=\"Original\" )  \n",
    "        ax[2].plot(t_eval_sample,dynamics_norm[:,1],0.1,c=\"black\", label=\"Original\" ) \n",
    "        legend_without_duplicate_labels(ax[0])\n",
    "l2=sumloss/len(initial_conditions_sample)          \n",
    "\n",
    "f.tight_layout()\n",
    "print(\"L2_norm\",l2)     \n",
    "   \n",
    "\n"
   ]
  }
 ],
 "metadata": {
  "kernelspec": {
   "display_name": "Python 3",
   "language": "python",
   "name": "python3"
  },
  "language_info": {
   "codemirror_mode": {
    "name": "ipython",
    "version": 3
   },
   "file_extension": ".py",
   "mimetype": "text/x-python",
   "name": "python",
   "nbconvert_exporter": "python",
   "pygments_lexer": "ipython3",
   "version": "3.10.10"
  },
  "orig_nbformat": 4
 },
 "nbformat": 4,
 "nbformat_minor": 2
}
